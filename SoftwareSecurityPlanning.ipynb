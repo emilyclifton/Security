{
  "nbformat": 4,
  "nbformat_minor": 0,
  "metadata": {
    "colab": {
      "provenance": [],
      "toc_visible": true,
      "authorship_tag": "ABX9TyO4I5LSQurkmHk2XH+MDciJ",
      "include_colab_link": true
    },
    "kernelspec": {
      "name": "python3",
      "display_name": "Python 3"
    },
    "language_info": {
      "name": "python"
    }
  },
  "cells": [
    {
      "cell_type": "markdown",
      "metadata": {
        "id": "view-in-github",
        "colab_type": "text"
      },
      "source": [
        "<a href=\"https://colab.research.google.com/github/emilyclifton/Security/blob/main/SoftwareSecurityPlanning.ipynb\" target=\"_parent\"><img src=\"https://colab.research.google.com/assets/colab-badge.svg\" alt=\"Open In Colab\"/></a>"
      ]
    },
    {
      "cell_type": "markdown",
      "source": [
        "# Software Security Planning\n",
        "Emily Clifton\n",
        "\n",
        "CS6387-50"
      ],
      "metadata": {
        "id": "xcMt56mhfFUj"
      }
    },
    {
      "cell_type": "markdown",
      "source": [
        "## Instructions"
      ],
      "metadata": {
        "id": "KYv37cf1fNP8"
      }
    },
    {
      "cell_type": "markdown",
      "source": [
        "\n",
        "Students will hand in planning documents for a hypothetical software project.\n",
        "\n",
        "\n",
        "1.   Select any software project you want. Describe your hypothetical project in some detail. A few paragraphs should be enough. It could be a web application, a desktop application, embedded software, etc.\n",
        "2.   Requirements analysis document(s) including requirements traceability matrix.List item\n",
        "3.   List of security requirements\n",
        "\n",
        "Those are the minimum for this assignment. You. The concept is secure requirements analysis and design. Other things you may add:\n",
        "\n",
        "\n",
        "\n",
        "1.   Addressing one of the OWASP lists in your design.\n",
        "2.   Integrating specific coding standards such as CERT.\n",
        "\n"
      ],
      "metadata": {
        "id": "aqyCw-JjYExr"
      }
    },
    {
      "cell_type": "markdown",
      "source": [
        "# Embedded Software: Secure Home Automation System"
      ],
      "metadata": {
        "id": "s2r1BeBsYe3k"
      }
    },
    {
      "cell_type": "markdown",
      "source": [
        "## Description:"
      ],
      "metadata": {
        "id": "Xa2aOGCxYhoR"
      }
    },
    {
      "cell_type": "markdown",
      "source": [
        "This secure home automation system is designed to provide users with the convenience of controlling various smart devices within their home through a centralized embedded software platform. This system will enable users to manage devices such as lights, thermostats, appliances, security cameras, and door locks from a mobile application, offering seamless integration of home automation functionalities. The embedded software will act as the central controller, ensuring reliable communication and coordination between the smart devices and the user's mobile app. By leveraging securre communication protocols, the system aims to prevent unauthorized access and ensure the integrity and confidentiality of data transmitted between devices.\n",
        "\n",
        "The primary functional requirements of the system include device control, status monitoring, and automation rules. Users will be able to turn devices on and off, adjust settings, and monitor the status of their smart devices in real-time through the app. Automation rules will allow the users to set predefined actions based on specific triggers, such as turning on the lights when motion is detected or adjusting the thermostat based on the time of day. The system will support a wide range of smart devices, ensuring compatibility and ease of use for the end user.\n",
        "\n",
        "For the non-functional requirements, the secure home automation system will prioritize reliability, performance, and security. The embedded software must provide consistent and dependable device control and monitoring, with minimal latency and high responsiveness to user commands. Performance is crucial to ensure that the system can handle multiple devices and simultaneous user interactions without degradation in quality. Security will be a paramount consideration, with robust measures implemented to protect the system from potential vulnerablities and threats.\n",
        "\n",
        "To achieve the necessary level of security, the system will incorporate several key features based on CERT Coding Standards and OWASP guidelines. Secure communication between devices and the central controller will be established using encryption protocols, ensuring that data transmitted over the network is protected from eavesdropping and tampering. Device authentication mechanisms will prevent unauthorized devices from connecting to the system, safeguarding against potential intrusions. The mobile app will require user authentication to access the system, adding an extra layer of protection for sensitive user data and device controls. Additionally, the system will be designed to mitigate common IoT vulnerabilities, such as those identified by the OWASP IoT Top Ten, through rigorous security testing and adherence to best practices in secure software development. Robust input validation, secure coding practices, and regular software updates will further enhance the security and resilience of the home automation system."
      ],
      "metadata": {
        "id": "7zAaWz7FYk0m"
      }
    },
    {
      "cell_type": "markdown",
      "source": [
        "## Requirements Analysis"
      ],
      "metadata": {
        "id": "A7Tv0lfVcfcp"
      }
    },
    {
      "cell_type": "markdown",
      "source": [
        "### Functional Requirements:"
      ],
      "metadata": {
        "id": "W1rlYoQ7dXZV"
      }
    },
    {
      "cell_type": "markdown",
      "source": [
        "\n",
        "\n",
        "1.   **Device Control:**\n",
        "   *   Users can turn devices on or off remotely via the mobile app.\n",
        "   *   Users can adjust settings (e.g., dimming lights, changing thermostat temperature).\n",
        "\n",
        "2.   **Status Monitoring:**\n",
        "   *   The system provides real-time status updates of all connected devices.\n",
        "   *   Users receive notifications of any status changes or alerts from devices.\n",
        "\n",
        "3.   **Automation Rules:**\n",
        "   *   Users can create, modify, and delete automation rules (e.g., if motion detected, turn on lights).\n",
        "   *   The system supports scheduling for automation tasks.\n",
        "\n"
      ],
      "metadata": {
        "id": "FURz6-ZCcmEm"
      }
    },
    {
      "cell_type": "markdown",
      "source": [
        "### Non-functional Requirements:"
      ],
      "metadata": {
        "id": "yT2zwPPidc3i"
      }
    },
    {
      "cell_type": "markdown",
      "source": [
        "1. **Reliability:**\n",
        "   *   The system must have an uptime of 99.9%.\n",
        "   *   Ensure consistent and dependable device control and monitoring.\n",
        "\n",
        "2. **Performance:**\n",
        "   *   The system should handle up to 50 devices simultaneously.\n",
        "   *   Commands should be executed with a latency of less than 200 milliseconds.\n",
        "\n",
        "3. **Security:**\n",
        "   *   Implement end-to-end encryption for all communications.\n",
        "   *   Ensure secure user authentication for mobile app access.\n",
        "   *   Regularly update the software to patch any known vulnerabilities."
      ],
      "metadata": {
        "id": "65cxYkZRdeDA"
      }
    },
    {
      "cell_type": "markdown",
      "source": [
        "### Requirements Traceability Matrix"
      ],
      "metadata": {
        "id": "ZVaxT-3kd4F7"
      }
    },
    {
      "cell_type": "markdown",
      "source": [
        "| Requirement ID | Description                           | Functional / Non-functional | Trace to Security Requirement               |\n",
        "|----------------|---------------------------------------|-----------------------------|---------------------------------------------|\n",
        "| FR1            | Remote device on/off control          | Functional                  | SR1, SR3, SR4, SR6                          |\n",
        "| FR2            | Adjust device settings                | Functional                  | SR1, SR3, SR4, SR6                          |\n",
        "| FR3            | Real-time status updates              | Functional                  | SR1, SR3, SR5, SR6                          |\n",
        "| FR4            | Status change notifications           | Functional                  | SR1, SR3, SR5, SR6                          |\n",
        "| FR5            | Create automation rules               | Functional                  | SR1, SR3, SR4, SR6, SR11                    |\n",
        "| FR6            | Modify and delete automation rules    | Functional                  | SR1, SR3, SR4, SR6, SR11                    |\n",
        "| FR7            | Scheduling automation tasks           | Functional                  | SR1, SR3, SR4, SR6, SR11                    |\n",
        "| NFR1           | System uptime of 99.9%                | Non-functional              | N/A                                         |\n",
        "| NFR2           | Handle up to 50 devices simultaneously| Non-functional              | N/A                                         |\n",
        "| NFR3           | Command latency < 200ms               | Non-functional              | N/A                                         |\n",
        "| NFR4           | End-to-end encryption                 | Non-functional              | SR1, SR5, SR7, SR9                          |\n",
        "| NFR5           | Secure user authentication            | Non-functional              | SR4, SR6, SR10                              |\n",
        "| NFR6           | Regular software updates              | Non-functional              | SR1, SR11                                   |"
      ],
      "metadata": {
        "id": "5-usXEojd91-"
      }
    },
    {
      "cell_type": "markdown",
      "source": [
        "## List of Security Requirements"
      ],
      "metadata": {
        "id": "gjd4BNDxeeSp"
      }
    },
    {
      "cell_type": "markdown",
      "source": [
        "1. **SR1:** Secure Coding Practices\n",
        "   *  Follow secure coding standards as outlined by CERT to prevent common coding vulnerabilities such as buffer overflows, integer overflows, and race conditions.\n",
        "\n",
        "2. **SR2:** Input Validation\n",
        "   *  Implement robust input validation to ensure that all inputs are checked for type, length, format, and range to prevent attacks such as injection and buffer overflow.\n",
        "\n",
        "3. **SR3:** Injection Prevention\n",
        "   *  Ensure that all data inputs are validated, sanitized, or escaped to protect against injection attacks such as SQL, NoSQL, and command injection.\n",
        "\n",
        "4. **SR4:** Broken Authentication\n",
        "   *  Implement secure authentication mechanisms to prevent broken authentication and session management issues, such as multi-factor authentication and secure password storage.\n",
        "\n",
        "5. **SR5:** Sensitive Data Exposure\n",
        "   *  Encrypt sensitive data both at rest and in transit to prevent unauthorized access and data breaches.\n",
        "\n",
        "6. **SR6:** API Security\n",
        "   *  Ensure secure API implementation by using strong authentication and authorization mechanisms, input validation, and secure data transmission protocols.\n",
        "\n",
        "7. **SR7:** Excessive Data Exposure\n",
        "   *  Limit the amount of data returned by APIs to the minimum necessary to prevent excessive data exposure.\n",
        "\n",
        "8. **SR8:** Secure Mobile Storage\n",
        "   *  Ensure that sensitive data stored on mobile devices is encrypted and protected against unauthorized access.\n",
        "\n",
        "9. **SR9:** Secure Mobile Communication\n",
        "   *  Ensure that all communications between the mobile app and the server are encrypted using strong protocols such as TLS.\n",
        "\n",
        "10. **SR10:** Insecure Authentication\n",
        "    *  Implement strong authentication mechanisms within the mobile app, such as multi-factor authentication and secure session management.\n",
        "\n",
        "11. **SR11:** Security Configuration\n",
        "    *  Ensure that the application is securely configured, following the OWASP ASVS guidelines for secure configuration management, including secure default settings and the removal of unnecessary features.\n",
        "\n",
        "12. **SR12:** Access Control\n",
        "    *  Implement strict access control mechanisms to ensure that users have the minimum necessary permissions, following the principle of least privilege.\n",
        "\n",
        "13. **SR13:** Logging and Monitoring\n",
        "    *  Implement logging and monitoring to detect and respond to security incidents, ensuring that logs are securely stored and monitored for suspicious activity."
      ],
      "metadata": {
        "id": "8n1Opqorero5"
      }
    }
  ]
}